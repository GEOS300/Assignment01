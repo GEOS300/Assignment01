{
 "cells": [
  {
   "cell_type": "markdown",
   "id": "1031d54d",
   "metadata": {},
   "source": [
    "---\n"
   ]
  },
  {
   "cell_type": "code",
   "execution_count": null,
   "id": "57d60072",
   "metadata": {},
   "outputs": [],
   "source": [
    "\n",
    "# Enter your information below\n",
    "Student_Name = 'June Skeeter'\n",
    "Student_Number = 123456789\n",
    "print(f'GEOS 300 Assignment Submission for {Student_Name}: {Student_Number}')"
   ]
  },
  {
   "cell_type": "code",
   "execution_count": null,
   "id": "836c0264",
   "metadata": {},
   "outputs": [],
   "source": [
    "import numpy as np\n",
    "import pandas as pd\n",
    "import matplotlib.pyplot as plt\n",
    "from datetime import datetime as dt"
   ]
  },
  {
   "cell_type": "markdown",
   "id": "c26cc1f7",
   "metadata": {},
   "source": [
    "### Question 1 \n",
    "\n",
    "Below is an example showing the first few rows of the BB climate summary data.  What values do you see listed for Incoming and outgoing $SW$ in the first row of the table, are these values reasonable?  Why or why not?  \n",
    "\n",
    "* Make suer to specify the units in your answer. Check the metadata provided [here](https://github.com/GEOS300/AssignmentData/blob/main/Climate_Summary_BB_Metadata.md) to make sure you understand the variable names and units.\n"
   ]
  },
  {
   "cell_type": "code",
   "execution_count": null,
   "id": "e7888969",
   "metadata": {},
   "outputs": [],
   "source": [
    "# Import the data from github & parse the timestamp for each record\n",
    "data_url='https://raw.githubusercontent.com/GEOS300/AssignmentData/main/Climate_Summary_BB.csv'\n",
    "# Pandas (pd here) allows us to set a timestamp as an index which lets us easily parse time series data\n",
    "df = pd.read_csv(data_url,parse_dates=['TIMESTAMP'],index_col=['TIMESTAMP'])\n",
    "# Using this we can get a extra variables (DOY & HOUR) that will be helpful later\n",
    "df['HOUR'] = df.index.hour\n",
    "df['DOY'] = df.index.dayofyear\n",
    "\n",
    "# Preview the table using .head()\n",
    "df.head()"
   ]
  },
  {
   "cell_type": "code",
   "execution_count": null,
   "id": "be6bb844",
   "metadata": {},
   "outputs": [],
   "source": [
    "# Insert your code or text answer here.  If writing a text answer in .ipynb, change the cell type to Markdown.  If writing a text answer in .Rmd, just delete the tick marks surrounding the block"
   ]
  },
  {
   "cell_type": "markdown",
   "id": "20591092",
   "metadata": {},
   "source": [
    "### Question 2 \n",
    "\n",
    "We're going to be looking at some data from the January 2024 cold-snap (Jan 12 to Jan 19) and snowstorm (Jan 17-Jan 19) during which record low temperatures were observed and over 25cm of snow was received across the Metro Vancouver area.  The table below shows some descriptive statistics for key variables during this time period.  What was the range of air temperatures observed over this time period?  How does it compare to the range of soil temperatures observed?\n"
   ]
  },
  {
   "cell_type": "code",
   "execution_count": null,
   "id": "4aaf9ebd",
   "metadata": {},
   "outputs": [],
   "source": [
    "# Set a time window and query the dataframe\n",
    "Start = dt.strptime('2024-01-12 0000', '%Y-%m-%d %H%M')\n",
    "End = dt.strptime('2024-01-20 0000', '%Y-%m-%d %H%M')\n",
    "\n",
    "# Select a subset of the variables\n",
    "Query_Cols = ['DOY','HOUR','SW_IN_1_1_1','LW_IN_1_1_1','SW_OUT_1_1_1', 'LW_OUT_1_1_1','TA_1_1_1','TS_1','RH_1_1_1']\n",
    "\n",
    "# Run the query and save it to a new dataframe called \"Selection\"\n",
    "Selection = df.loc[((df.index>=Start)&(df.index<End)),Query_Cols].copy()\n",
    "                    \n",
    "# Generate some descriptive statistics for the data\n",
    "Selection.describe().round(3)"
   ]
  },
  {
   "cell_type": "code",
   "execution_count": null,
   "id": "7facbc55",
   "metadata": {},
   "outputs": [],
   "source": [
    "# Insert your code or text answer here.  If writing a text answer in .ipynb, change the cell type to Markdown.  If writing a text answer in .Rmd, just delete the tick marks surrounding the block"
   ]
  },
  {
   "cell_type": "markdown",
   "id": "92e0f793",
   "metadata": {},
   "source": [
    "### Question 3\n",
    "\n",
    "The plot below shows traces of the four radiation component, air & soil temperature, and relative humidity are.  Looking at the plot, what stands out to you?  Comment on the progression of each radiative component over time, using the temperature and humidity data to support your discussion and help explain any patterns you might see.  Do you see any issues in the data?  If so, what is a possible explanation?\n"
   ]
  },
  {
   "cell_type": "code",
   "execution_count": null,
   "id": "00d1e266",
   "metadata": {},
   "outputs": [],
   "source": [
    "# Create a plot with two sub-plots\n",
    "# Plot the radiation components on the first sub-plot\n",
    "# Plot Ta,Ts, and RH on the second sub-plot\n",
    "fig,axes=plt.subplots(2,sharex=True)\n",
    "plt.suptitle(f'Student #: {Student_Number}')\n",
    "\n",
    "Selection.plot(ax=axes[0],\n",
    "              y=['SW_IN_1_1_1','SW_OUT_1_1_1','LW_IN_1_1_1','LW_OUT_1_1_1'],\n",
    "              color=['blue','red','blue','red'],\n",
    "              style=['-','-','--','--'])\n",
    "axes[0].legend(['SW In','SW Out','LW In','LW Out'],ncol=4)\n",
    "\n",
    "# Note: You can use a markup language called LaTeX to format labels.  Replace Units,subscript, and superscript with the appropriate unit for radiative fluxes\n",
    "axes[0].set_ylabel('Unit$_{subscript}^{superscript}$')\n",
    "axes[0].set_ylim([0,475])\n",
    "axes[0].set_title(f'Radiative Fluxes at CA-DBB Flux Station')\n",
    "axes[0].grid()\n",
    "\n",
    "# For this plot we're going to plot temperature on the left axes and RH on the right axes\n",
    "axes[1].plot()\n",
    "second_yaxes = axes[1].twinx()\n",
    "\n",
    "# A simple \"hack\" to get the element from second_yaxes (RH_1_1_1) to show up with the legend items for the main yaxis\n",
    "Selection['Dummy_Trace'] = np.nan\n",
    "Selection.plot(ax=axes[1],\n",
    "              y=['TA_1_1_1','TS_1','Dummy_Trace'],\n",
    "              color=['red','red','blue'],\n",
    "              style=['-','--',':'])\n",
    "axes[1].legend(['Ta 2m','Ts 0.05m','RH 2m'],ncol=2,loc=4)\n",
    "axes[1].set_ylabel('C$\\degree$')\n",
    "axes[1].set_ylim([-15,10])\n",
    "\n",
    "Selection.plot(ax=second_yaxes,\n",
    "              y=['RH_1_1_1'],\n",
    "              color=['blue'],\n",
    "              style=[':'],\n",
    "              legend=False)\n",
    "second_yaxes.set_ylabel('%')\n",
    "\n",
    "axes[1].set_xlabel('Date')\n",
    "axes[1].set_title('Temperature and Humidity')\n",
    "axes[1].grid()"
   ]
  },
  {
   "cell_type": "code",
   "execution_count": null,
   "id": "e82b3702",
   "metadata": {},
   "outputs": [],
   "source": [
    "# Insert your code or text answer here.  If writing a text answer in .ipynb, change the cell type to Markdown.  If writing a text answer in .Rmd, just delete the tick marks surrounding the block"
   ]
  },
  {
   "cell_type": "markdown",
   "id": "2835d3af",
   "metadata": {},
   "source": [
    "### Question 4\n",
    "\n",
    "The plot below shows mean daily albedo.  What explains sharp increase on the 17th?\n"
   ]
  },
  {
   "cell_type": "code",
   "execution_count": null,
   "id": "ff85a3ae",
   "metadata": {},
   "outputs": [],
   "source": [
    "# Create a single plot bar showing mean daily albedo\n",
    "\n",
    "# Calculate Albedo\n",
    "Selection['Albedo'] = Selection['SW_OUT_1_1_1']/Selection['SW_IN_1_1_1']\n",
    "# Filter out implausible values\n",
    "Selection.loc[Selection['SW_OUT_1_1_1']>Selection['SW_IN_1_1_1'],'Albedo']=np.nan\n",
    "\n",
    "# Resample to get mean daily Albedo, ignoring the NaN values\n",
    "DailyAlbedo = Selection.resample('D').mean()\n",
    "DailyAlbedo.index = DailyAlbedo.index.dayofyear\n",
    "\n",
    "fig,ax=plt.subplots()\n",
    "DailyAlbedo.plot.bar(ax=ax,y='Albedo',color='blue')\n",
    "ax.set_ylabel('%')\n",
    "ax.set_title('Daily Albedo')\n",
    "plt.suptitle(f'Student #: {Student_Number}')"
   ]
  },
  {
   "cell_type": "code",
   "execution_count": null,
   "id": "ee162b5f",
   "metadata": {},
   "outputs": [],
   "source": [
    "# Insert your code or text answer here.  If writing a text answer in .ipynb, change the cell type to Markdown.  If writing a text answer in .Rmd, just delete the tick marks surrounding the block"
   ]
  },
  {
   "cell_type": "markdown",
   "id": "2c95799b",
   "metadata": {},
   "source": [
    "## Question 5\n",
    "\n",
    "The maximum half-hourly $SW_\\downarrow$ observed during this time period occurred between 12:30 and 13:00 on January 13th.  Using the equations from lecture, calculate the Local Apparent Time (LAT), solar declination $\\delta$, solar zenith angle $Z$, and extraterrestrial irradiance $I_ex$ for the center point of this observation period (12:45).  Given the value of $I_ex$, compared to observed $SW_\\downarrow$, what is the approximate bulk transmissivity ($\\Psi_a$) coefficient of the atmosphere over CA-DBB at this point in time?  Given the value of $I_ex$, compared to observed $SW_\\downarrow$, what is the approximate bulk transmissivity ($\\Psi_a$) coefficient of the atmosphere over CA-DBB at this point in time?  \n",
    "\n",
    "**Note**: you can find the site's Lat/Lon and time zone info in the CA-DBB station metadata file.\n"
   ]
  },
  {
   "cell_type": "code",
   "execution_count": null,
   "id": "6c40abb5",
   "metadata": {},
   "outputs": [],
   "source": [
    "# Insert your code or text answer here.  If writing a text answer in .ipynb, change the cell type to Markdown.  If writing a text answer in .Rmd, just delete the tick marks surrounding the block"
   ]
  },
  {
   "cell_type": "markdown",
   "id": "61ac793b",
   "metadata": {},
   "source": [
    "### Question 6\n",
    "\n",
    "Now calculate $\\Psi_a$ for 12:45 January 19; the observed value of $SW_\\downarrow$ was between 12:30 and 13:00 was 58.375 W$^m{-2}$.  What explains the difference between these two days?\n"
   ]
  },
  {
   "cell_type": "code",
   "execution_count": null,
   "id": "c80666f1",
   "metadata": {},
   "outputs": [],
   "source": [
    "# Insert your code or text answer here.  If writing a text answer in .ipynb, change the cell type to Markdown.  If writing a text answer in .Rmd, just delete the tick marks surrounding the block"
   ]
  },
  {
   "cell_type": "markdown",
   "id": "064d5856",
   "metadata": {},
   "source": [
    "### Question 7\n",
    "\n",
    "Using the examples above as a template, calculate $R_n$ over the cold-snap.  Make a scatter plot showing $R_n$ on the y-axis and $SW_\\downarrow$ on the x-axis.  Describe the relationship you.\n"
   ]
  },
  {
   "cell_type": "code",
   "execution_count": null,
   "id": "60af44bf",
   "metadata": {},
   "outputs": [],
   "source": [
    "# Create a scatter plot\n",
    "\n",
    "# fig,ax=plt.subplots()\n",
    "# Selection.plot(ax=ax,kind='scatter',x='TA_1_1_1',y='TS_1')\n",
    "# plt.suptitle(f'Student #: {Student_Number}')"
   ]
  },
  {
   "cell_type": "code",
   "execution_count": null,
   "id": "20f6d09a",
   "metadata": {},
   "outputs": [],
   "source": [
    "# Insert your code or text answer here.  If writing a text answer in .ipynb, change the cell type to Markdown.  If writing a text answer in .Rmd, just delete the tick marks surrounding the block"
   ]
  },
  {
   "cell_type": "markdown",
   "id": "745b02a9",
   "metadata": {},
   "source": [
    "### Question 8\n",
    "\n",
    "Using the examples above as a template, create a new selection to see how typical summertime conditions compare to severe winter time conditions.  Change the selection period so that it spans July 12th to July 19th, 2023.  Provide summary statistics of the same variables as those shown above and produce plots like the ones shown above as well. Discuss how each of these variables during this mid-summer period compare to those from the cold-snap period.\n"
   ]
  },
  {
   "cell_type": "code",
   "execution_count": null,
   "id": "99ff89e1",
   "metadata": {},
   "outputs": [],
   "source": [
    "# Insert your code or text answer here.  If writing a text answer in .ipynb, change the cell type to Markdown.  If writing a text answer in .Rmd, just delete the tick marks surrounding the block"
   ]
  },
  {
   "cell_type": "code",
   "execution_count": null,
   "id": "bc3f0146",
   "metadata": {},
   "outputs": [],
   "source": [
    "# Insert your code or text answer here.  If writing a text answer in .ipynb, change the cell type to Markdown.  If writing a text answer in .Rmd, just delete the tick marks surrounding the block"
   ]
  },
  {
   "cell_type": "markdown",
   "id": "9785d65a",
   "metadata": {},
   "source": [
    "### Question 9\n",
    "\n",
    "Find the timestamp of the observation interval when maximum $SW_\\downarrow$ was observed for the mid-summer period.  You will use observations from this timestamp to answer each of the questions below.  **Note** our sites do not use daylight savings, so the UTC offset is fixed all year.  Use this information to calculate $I_ex$ and $\\Psi_a$ for the mid-point of this observation period.  Discus how these two values compare between this observation, and the observation spanning between 12:30 and 13:00 on January 13th of 2024.  How does the magnitude differ and why does the relative timing of the maximum daily $SW_\\downarrow$ differ?\n"
   ]
  },
  {
   "cell_type": "code",
   "execution_count": null,
   "id": "eca68fc6",
   "metadata": {},
   "outputs": [],
   "source": [
    "# Code Tip: getting the time and value when a variable reaches it's maximum\n",
    "\n",
    "## Selection.loc[Selection['TA_1_1_1']==Selection['TA_1_1_1'].max(),'TA_1_1_1']"
   ]
  },
  {
   "cell_type": "code",
   "execution_count": null,
   "id": "ab040233",
   "metadata": {},
   "outputs": [],
   "source": [
    "# Insert your code or text answer here.  If writing a text answer in .ipynb, change the cell type to Markdown.  If writing a text answer in .Rmd, just delete the tick marks surrounding the block"
   ]
  },
  {
   "cell_type": "markdown",
   "id": "8104e97b",
   "metadata": {},
   "source": [
    "### Question 10\n",
    "\n",
    "Approximately 42% of the energy in the short-wave is within the PAR band (Photosynthetically active radiation that can be used by plants to perform photosynthesis). Based on this assumption, calculate the energy available to plants (also called: photosynthetic photon flux density, PPFD) at noon in $\\mu \\rm{mol}\\, \\rm{m}^{-2}\\,\\rm{s}^{-1}$. You can use the wavelength of yellow light ($\\lambda 0 0.55 \\mu m$) for your estimate.\n",
    "**Hint**: Consult examples in reading package for radiation geometry.\n"
   ]
  },
  {
   "cell_type": "code",
   "execution_count": null,
   "id": "b880c231",
   "metadata": {},
   "outputs": [],
   "source": [
    "# Insert your code or text answer here.  If writing a text answer in .ipynb, change the cell type to Markdown.  If writing a text answer in .Rmd, just delete the tick marks surrounding the block"
   ]
  },
  {
   "cell_type": "markdown",
   "id": "b8cae88a",
   "metadata": {},
   "source": [
    "### Question 11\n",
    "\n",
    "Let's assume the surface emissivity at CA-DBB is $\\epsilon = 0.95$.  Using this assumption and the Stephan Boltzman law for grey bodies, estimate temperature of the land surface at CA-DBB for the time period identified above in question 9.\n"
   ]
  },
  {
   "cell_type": "code",
   "execution_count": null,
   "id": "b326eda9",
   "metadata": {},
   "outputs": [],
   "source": [
    "# Insert your code or text answer here.  If writing a text answer in .ipynb, change the cell type to Markdown.  If writing a text answer in .Rmd, just delete the tick marks surrounding the block"
   ]
  },
  {
   "cell_type": "markdown",
   "id": "be441690",
   "metadata": {},
   "source": [
    "### Question 12\n",
    "\n",
    "Now use the same equation to estimate the \"apparent\" radiative sky temperature ($T_k$) from $LW_{\\downarrow}$ for this timestamp.  \"Apparent\" means you should assume $\\epsilon{a} = 1.0$. How would you interpret $T_k$?\n"
   ]
  },
  {
   "cell_type": "code",
   "execution_count": null,
   "id": "f4a42ee4",
   "metadata": {},
   "outputs": [],
   "source": [
    "# Insert your code or text answer here.  If writing a text answer in .ipynb, change the cell type to Markdown.  If writing a text answer in .Rmd, just delete the tick marks surrounding the block"
   ]
  },
  {
   "cell_type": "markdown",
   "id": "9b3498d9",
   "metadata": {},
   "source": [
    "### Question 13\n",
    "\n",
    "Using measured $LW_{\\downarrow}$ and measured air temperature $T_a$, calculate the actual bulk emissivity of the atmosphere $\\varepsilon_{a}$ at noon? [2]\n"
   ]
  },
  {
   "cell_type": "code",
   "execution_count": null,
   "id": "81048d65",
   "metadata": {},
   "outputs": [],
   "source": [
    "# Insert your code or text answer here.  If writing a text answer in .ipynb, change the cell type to Markdown.  If writing a text answer in .Rmd, just delete the tick marks surrounding the block"
   ]
  },
  {
   "cell_type": "markdown",
   "id": "a9d57270",
   "metadata": {},
   "source": [
    "### Question 14\n",
    "\n",
    "Using the Prata (1996) equation from lecture and measured $T_a$ and $RH$, what is the calculated apparent emissivity of the atmosphere and the calculated estimate of $LS_{\\downarrow}$? How well do these approximations match with what we actually observed?\n"
   ]
  },
  {
   "cell_type": "code",
   "execution_count": null,
   "id": "72888071",
   "metadata": {},
   "outputs": [],
   "source": [
    "# Insert your code or text answer here.  If writing a text answer in .ipynb, change the cell type to Markdown.  If writing a text answer in .Rmd, just delete the tick marks surrounding the block"
   ]
  }
 ],
 "metadata": {
  "kernelspec": {
   "display_name": "Python 3 (ipykernel)",
   "language": "python",
   "name": "python3"
  }
 },
 "nbformat": 4,
 "nbformat_minor": 5
}
